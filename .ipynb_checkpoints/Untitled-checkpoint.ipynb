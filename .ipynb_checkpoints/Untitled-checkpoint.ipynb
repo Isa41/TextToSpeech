{
 "cells": [
  {
   "cell_type": "code",
   "execution_count": 2,
   "metadata": {},
   "outputs": [
    {
     "name": "stdout",
     "output_type": "stream",
     "text": [
      "Requirement already satisfied: ibm_watson in c:\\users\\edepyahu\\anaconda3\\lib\\site-packages (4.7.1)\n",
      "Requirement already satisfied: ibm-cloud-sdk-core==1.7.3 in c:\\users\\edepyahu\\anaconda3\\lib\\site-packages (from ibm_watson) (1.7.3)\n",
      "Requirement already satisfied: websocket-client==0.48.0 in c:\\users\\edepyahu\\anaconda3\\lib\\site-packages (from ibm_watson) (0.48.0)\n",
      "Requirement already satisfied: python-dateutil>=2.5.3 in c:\\users\\edepyahu\\anaconda3\\lib\\site-packages (from ibm_watson) (2.8.1)\n",
      "Requirement already satisfied: requests<3.0,>=2.0 in c:\\users\\edepyahu\\anaconda3\\lib\\site-packages (from ibm_watson) (2.24.0)\n",
      "Requirement already satisfied: PyJWT>=1.7.1 in c:\\users\\edepyahu\\anaconda3\\lib\\site-packages (from ibm-cloud-sdk-core==1.7.3->ibm_watson) (1.7.1)\n",
      "Requirement already satisfied: six in c:\\users\\edepyahu\\anaconda3\\lib\\site-packages (from websocket-client==0.48.0->ibm_watson) (1.15.0)\n",
      "Requirement already satisfied: urllib3!=1.25.0,!=1.25.1,<1.26,>=1.21.1 in c:\\users\\edepyahu\\anaconda3\\lib\\site-packages (from requests<3.0,>=2.0->ibm_watson) (1.25.9)\n",
      "Requirement already satisfied: certifi>=2017.4.17 in c:\\users\\edepyahu\\anaconda3\\lib\\site-packages (from requests<3.0,>=2.0->ibm_watson) (2020.6.20)\n",
      "Requirement already satisfied: chardet<4,>=3.0.2 in c:\\users\\edepyahu\\anaconda3\\lib\\site-packages (from requests<3.0,>=2.0->ibm_watson) (3.0.4)\n",
      "Requirement already satisfied: idna<3,>=2.5 in c:\\users\\edepyahu\\anaconda3\\lib\\site-packages (from requests<3.0,>=2.0->ibm_watson) (2.10)\n"
     ]
    }
   ],
   "source": [
    "!pip install ibm_watson"
   ]
  },
  {
   "cell_type": "code",
   "execution_count": 3,
   "metadata": {},
   "outputs": [],
   "source": [
    "api_key=\"Uaxk4sSKynHX3Vn5PiB8SYVUUV8rLbIMSjt24SBXHhOC\"\n",
    "url=\"https://api.eu-de.text-to-speech.watson.cloud.ibm.com/instances/f10d6177-22c3-4c78-82c4-5bc0371eb4e4\"\n"
   ]
  },
  {
   "cell_type": "code",
   "execution_count": 4,
   "metadata": {},
   "outputs": [],
   "source": [
    "from ibm_watson import TextToSpeechV1\n",
    "from ibm_cloud_sdk_core.authenticators import IAMAuthenticator\n"
   ]
  },
  {
   "cell_type": "code",
   "execution_count": 8,
   "metadata": {},
   "outputs": [],
   "source": [
    "import os # per open the mp3\n",
    "from tkinter import * # per ui\n",
    "from tkinter import messagebox"
   ]
  },
  {
   "cell_type": "code",
   "execution_count": 9,
   "metadata": {},
   "outputs": [],
   "source": [
    "authenticator = IAMAuthenticator(api_key)\n",
    "tts = TextToSpeechV1(authenticator=authenticator)\n",
    "tts.set_service_url(url)"
   ]
  },
  {
   "cell_type": "code",
   "execution_count": 10,
   "metadata": {},
   "outputs": [],
   "source": [
    "window = Tk()\n",
    "window.title = 'TTs'\n",
    "window.geometry('600x300')\n",
    "\n",
    "_form = Frame(window)\n",
    "_form.grid()\n",
    "\n",
    "text_label = Label(_form, text = \"Write something\")\n",
    "text_label.grid(padx = 10, pady = 5)\n",
    "  \n",
    "def play_command():  \n",
    "    with open('./speech.mp3','wb') as audio_file:\n",
    "        res = tts.synthesize(input_field.get(), accept = 'audio/mp3', voice = 'en-GB_CharlotteV3Voice').get_result()\n",
    "        audio_file.write(res.content)\n",
    "    os.startfile('speech.mp3') \n",
    "    \n",
    "input_field = Entry(_form, bd=2)\n",
    "input_field.grid(padx = 10, pady =5)\n",
    "\n",
    "play_button = Button(_form, text = 'play', width = 20, height = 2, command=play_command)\n",
    "play_button.grid(padx = 10, pady = 5)\n",
    "\n",
    "#text_value[\"text\"] = input_field.get()\n",
    "#text_value = Label(text=\"write here\")\n",
    "#text_value.grid(padx = 10, pady = 5)\n",
    "\n",
    "_form.mainloop()\n",
    "#do not think too much. God is grande!\n",
    "    \n",
    "    \n",
    "   "
   ]
  },
  {
   "cell_type": "code",
   "execution_count": 7,
   "metadata": {},
   "outputs": [],
   "source": []
  },
  {
   "cell_type": "code",
   "execution_count": 8,
   "metadata": {},
   "outputs": [],
   "source": []
  },
  {
   "cell_type": "code",
   "execution_count": null,
   "metadata": {},
   "outputs": [],
   "source": []
  },
  {
   "cell_type": "code",
   "execution_count": null,
   "metadata": {},
   "outputs": [],
   "source": []
  }
 ],
 "metadata": {
  "kernelspec": {
   "display_name": "Python 3",
   "language": "python",
   "name": "python3"
  },
  "language_info": {
   "codemirror_mode": {
    "name": "ipython",
    "version": 3
   },
   "file_extension": ".py",
   "mimetype": "text/x-python",
   "name": "python",
   "nbconvert_exporter": "python",
   "pygments_lexer": "ipython3",
   "version": "3.8.3"
  }
 },
 "nbformat": 4,
 "nbformat_minor": 4
}
